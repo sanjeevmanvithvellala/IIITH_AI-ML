{
  "cells": [
    {
      "cell_type": "markdown",
      "metadata": {
        "id": "view-in-github",
        "colab_type": "text"
      },
      "source": [
        "<a href=\"https://colab.research.google.com/github/sanjeevmanvithvellala/IIITH_AI-ML/blob/main/VSM_AIML_Module_1_Lab_2_Machine_Learning_terms_and_metrics.ipynb\" target=\"_parent\"><img src=\"https://colab.research.google.com/assets/colab-badge.svg\" alt=\"Open In Colab\"/></a>"
      ]
    },
    {
      "cell_type": "markdown",
      "metadata": {
        "id": "3Eu9VZbF01eq"
      },
      "source": [
        "# Machine Learning terms and metrics\n",
        "\n",
        "Module 1, Lab 2\n",
        "\n",
        "In this lab, we will show a part of the ML pipeline by using the California Housing dataset. There are 20640 samples, each with 8 attributes like income of the block, age of the houses per district etc. The task is to predict the cost of the houses per district. We will use the scikit-learn library to load the data and perform some basic data preprocessing and model training. We will also show how to evaluate the model using some common metrics, split the data into training and testing sets, and use cross-validation to get a better estimate of the model's performance."
      ]
    },
    {
      "cell_type": "code",
      "execution_count": null,
      "metadata": {
        "id": "8qBvyEem0vLi"
      },
      "outputs": [],
      "source": [
        "import numpy as np\n",
        "from sklearn import datasets\n",
        "import matplotlib.pyplot as plt\n",
        "\n",
        "rng = np.random.default_rng(seed=42)"
      ]
    },
    {
      "cell_type": "code",
      "execution_count": null,
      "metadata": {
        "colab": {
          "base_uri": "https://localhost:8080/"
        },
        "id": "8LpqjN991GGJ",
        "outputId": "022d4b5a-5686-4782-f777-86ca47084879"
      },
      "outputs": [
        {
          "output_type": "stream",
          "name": "stdout",
          "text": [
            ".. _california_housing_dataset:\n",
            "\n",
            "California Housing dataset\n",
            "--------------------------\n",
            "\n",
            "**Data Set Characteristics:**\n",
            "\n",
            ":Number of Instances: 20640\n",
            "\n",
            ":Number of Attributes: 8 numeric, predictive attributes and the target\n",
            "\n",
            ":Attribute Information:\n",
            "    - MedInc        median income in block group\n",
            "    - HouseAge      median house age in block group\n",
            "    - AveRooms      average number of rooms per household\n",
            "    - AveBedrms     average number of bedrooms per household\n",
            "    - Population    block group population\n",
            "    - AveOccup      average number of household members\n",
            "    - Latitude      block group latitude\n",
            "    - Longitude     block group longitude\n",
            "\n",
            ":Missing Attribute Values: None\n",
            "\n",
            "This dataset was obtained from the StatLib repository.\n",
            "https://www.dcc.fc.up.pt/~ltorgo/Regression/cal_housing.html\n",
            "\n",
            "The target variable is the median house value for California districts,\n",
            "expressed in hundreds of thousands of dollars ($100,000).\n",
            "\n",
            "This dataset was derived from the 1990 U.S. census, using one row per census\n",
            "block group. A block group is the smallest geographical unit for which the U.S.\n",
            "Census Bureau publishes sample data (a block group typically has a population\n",
            "of 600 to 3,000 people).\n",
            "\n",
            "A household is a group of people residing within a home. Since the average\n",
            "number of rooms and bedrooms in this dataset are provided per household, these\n",
            "columns may take surprisingly large values for block groups with few households\n",
            "and many empty houses, such as vacation resorts.\n",
            "\n",
            "It can be downloaded/loaded using the\n",
            ":func:`sklearn.datasets.fetch_california_housing` function.\n",
            "\n",
            ".. rubric:: References\n",
            "\n",
            "- Pace, R. Kelley and Ronald Barry, Sparse Spatial Autoregressions,\n",
            "  Statistics and Probability Letters, 33 (1997) 291-297\n",
            "\n"
          ]
        }
      ],
      "source": [
        "dataset = datasets.fetch_california_housing()\n",
        "# Dataset description\n",
        "print(dataset.DESCR)"
      ]
    },
    {
      "cell_type": "markdown",
      "metadata": {
        "id": "PCe1VNftevgE"
      },
      "source": [
        "Given below are the list of target values. These correspond to the house value derived considering all the 8 input features and are continuous values. We should use regression models to predict these values but we will start with a simple classification model for the sake of simplicity. We need to just round off the values to the nearest integer and use a classification model to predict the house value."
      ]
    },
    {
      "cell_type": "code",
      "execution_count": null,
      "metadata": {
        "colab": {
          "base_uri": "https://localhost:8080/"
        },
        "id": "F8K0ggBOevgE",
        "outputId": "b7cbc0ad-f536-44d0-fa8f-9b3b58d8612f"
      },
      "outputs": [
        {
          "output_type": "stream",
          "name": "stdout",
          "text": [
            "Orignal target values: [4.526 3.585 3.521 ... 0.923 0.847 0.894]\n",
            "Target values after conversion: [4 3 3 ... 0 0 0]\n",
            "Input variables shape: (20640, 8)\n",
            "Output variables shape: (20640,)\n"
          ]
        }
      ],
      "source": [
        "print(\"Orignal target values:\", dataset.target)\n",
        "\n",
        "dataset.target = dataset.target.astype(int)\n",
        "\n",
        "print(\"Target values after conversion:\", dataset.target)\n",
        "print(\"Input variables shape:\", dataset.data.shape)\n",
        "print(\"Output variables shape:\", dataset.target.shape)"
      ]
    },
    {
      "cell_type": "markdown",
      "metadata": {
        "id": "iNx4174W5xRg"
      },
      "source": [
        "The simplest model to use for classification is the K-Nearest Neighbors model. We will use this model to predict the house value with a K value of 1. We will also use the accuracy metric to evaluate the model."
      ]
    },
    {
      "cell_type": "code",
      "execution_count": null,
      "metadata": {
        "id": "07zpydQj1hIQ"
      },
      "outputs": [],
      "source": [
        "def NN1(traindata, trainlabel, query):\n",
        "    \"\"\"\n",
        "    This function takes in the training data, training labels and a query point\n",
        "    and returns the predicted label for the query point using the nearest neighbour algorithm\n",
        "\n",
        "    traindata: numpy array of shape (n,d) where n is the number of samples and d is the number of features\n",
        "    trainlabel: numpy array of shape (n,) where n is the number of samples\n",
        "    query: numpy array of shape (d,) where d is the number of features\n",
        "\n",
        "    returns: the predicted label for the query point which is the label of the training data which is closest to the query point\n",
        "    \"\"\"\n",
        "    diff = (\n",
        "        traindata - query\n",
        "    )  # find the difference between features. Numpy automatically takes care of the size here\n",
        "    sq = diff * diff  # square the differences\n",
        "    dist = sq.sum(1)  # add up the squares\n",
        "    label = trainlabel[np.argmin(dist)]\n",
        "    return label\n",
        "\n",
        "\n",
        "def NN(traindata, trainlabel, testdata):\n",
        "    \"\"\"\n",
        "    This function takes in the training data, training labels and test data\n",
        "    and returns the predicted labels for the test data using the nearest neighbour algorithm\n",
        "\n",
        "    traindata: numpy array of shape (n,d) where n is the number of samples and d is the number of features\n",
        "    trainlabel: numpy array of shape (n,) where n is the number of samples\n",
        "    testdata: numpy array of shape (m,d) where m is the number of test samples and d is the number of features\n",
        "\n",
        "    returns: the predicted labels for the test data which is the label of the training data which is closest to each test point\n",
        "    \"\"\"\n",
        "    predlabel = np.array([NN1(traindata, trainlabel, i) for i in testdata])\n",
        "    return predlabel"
      ]
    },
    {
      "cell_type": "markdown",
      "metadata": {
        "id": "03JktkfIGaje"
      },
      "source": [
        "We will also define a 'random classifier', which randomly allots labels to each sample"
      ]
    },
    {
      "cell_type": "code",
      "execution_count": null,
      "metadata": {
        "id": "fogWAtjyGhAH"
      },
      "outputs": [],
      "source": [
        "def RandomClassifier(traindata, trainlabel, testdata):\n",
        "    \"\"\"\n",
        "    This function takes in the training data, training labels and test data\n",
        "    and returns the predicted labels for the test data using the random classifier algorithm\n",
        "\n",
        "    In reality, we don't need these arguments but we are passing them to keep the function signature consistent with other classifiers\n",
        "\n",
        "    traindata: numpy array of shape (n,d) where n is the number of samples and d is the number of features\n",
        "    trainlabel: numpy array of shape (n,) where n is the number of samples\n",
        "    testdata: numpy array of shape (m,d) where m is the number of test samples and d is the number of features\n",
        "\n",
        "    returns: the predicted labels for the test data which is a random label from the training data\n",
        "    \"\"\"\n",
        "\n",
        "    classes = np.unique(trainlabel)\n",
        "    rints = rng.integers(low=0, high=len(classes), size=len(testdata))\n",
        "    predlabel = classes[rints]\n",
        "    return predlabel"
      ]
    },
    {
      "cell_type": "markdown",
      "metadata": {
        "id": "1Hjf1KHs7fU5"
      },
      "source": [
        "We need a metric to evaluate the performance of the model. Let us define a metric 'Accuracy' to see how good our learning algorithm is. Accuracy is the ratio of the number of correctly classified samples to the total number of samples. The higher the accuracy, the better the algorithm. We will use the accuracy metric to evaluate and compate the performance of the K-Nearest Neighbors model and the random classifier."
      ]
    },
    {
      "cell_type": "code",
      "execution_count": null,
      "metadata": {
        "id": "ouuCqWU07bz-"
      },
      "outputs": [],
      "source": [
        "def Accuracy(gtlabel, predlabel):\n",
        "    \"\"\"\n",
        "    This function takes in the ground-truth labels and predicted labels\n",
        "    and returns the accuracy of the classifier\n",
        "\n",
        "    gtlabel: numpy array of shape (n,) where n is the number of samples\n",
        "    predlabel: numpy array of shape (n,) where n is the number of samples\n",
        "\n",
        "    returns: the accuracy of the classifier which is the number of correct predictions divided by the total number of predictions\n",
        "    \"\"\"\n",
        "    assert len(gtlabel) == len(\n",
        "        predlabel\n",
        "    ), \"Length of the ground-truth labels and predicted labels should be the same\"\n",
        "    correct = (\n",
        "        gtlabel == predlabel\n",
        "    ).sum()  # count the number of times the groundtruth label is equal to the predicted label.\n",
        "    return correct / len(gtlabel)"
      ]
    },
    {
      "cell_type": "markdown",
      "metadata": {
        "id": "4vJFwBFa9Klw"
      },
      "source": [
        "Let us make a function to split the dataset with the desired probability. We will use this function to split the dataset into training and testing sets. We will use the training set to train the model and the testing set to evaluate the model."
      ]
    },
    {
      "cell_type": "code",
      "execution_count": null,
      "metadata": {
        "id": "Ko0VzpSM2Tdi"
      },
      "outputs": [],
      "source": [
        "def split(data, label, percent):\n",
        "    # generate a random number for each sample\n",
        "    rnd = rng.random(len(label))\n",
        "    split1 = rnd < percent\n",
        "    split2 = rnd >= percent\n",
        "\n",
        "    split1data = data[split1, :]\n",
        "    split1label = label[split1]\n",
        "    split2data = data[split2, :]\n",
        "    split2label = label[split2]\n",
        "    return split1data, split1label, split2data, split2label"
      ]
    },
    {
      "cell_type": "markdown",
      "metadata": {
        "id": "AcK3LEAJ_LGC"
      },
      "source": [
        "We will reserve 20% of our dataset as the test set. We will not change this portion throughout our experiments"
      ]
    },
    {
      "cell_type": "code",
      "execution_count": null,
      "metadata": {
        "colab": {
          "base_uri": "https://localhost:8080/"
        },
        "id": "bBZkHBLJ1iU-",
        "outputId": "16d15fc4-5cf2-467f-a400-8ee7ede4a65d"
      },
      "outputs": [
        {
          "output_type": "stream",
          "name": "stdout",
          "text": [
            "Number of test samples: 4144\n",
            "Number of train samples: 16496\n",
            "Percent of test data: 20.07751937984496 %\n"
          ]
        }
      ],
      "source": [
        "testdata, testlabel, alltraindata, alltrainlabel = split(\n",
        "    dataset.data, dataset.target, 20 / 100\n",
        ")\n",
        "print(\"Number of test samples:\", len(testlabel))\n",
        "print(\"Number of train samples:\", len(alltrainlabel))\n",
        "print(\"Percent of test data:\", len(testlabel) * 100 / len(dataset.target), \"%\")"
      ]
    },
    {
      "cell_type": "markdown",
      "metadata": {
        "id": "a6Ss0Z6IAGNV"
      },
      "source": [
        "## Experiments with splits\n",
        "\n",
        "Let us reserve some of our train data as a validation set"
      ]
    },
    {
      "cell_type": "code",
      "execution_count": null,
      "metadata": {
        "id": "WFew2iry_7W7"
      },
      "outputs": [],
      "source": [
        "traindata, trainlabel, valdata, vallabel = split(\n",
        "    alltraindata, alltrainlabel, 75 / 100)"
      ]
    },
    {
      "cell_type": "markdown",
      "metadata": {
        "id": "60hiu4clFN1i"
      },
      "source": [
        "What is the accuracy of our classifiers on the train dataset?"
      ]
    },
    {
      "cell_type": "code",
      "execution_count": null,
      "metadata": {
        "colab": {
          "base_uri": "https://localhost:8080/"
        },
        "id": "DBlZDTHUFTZx",
        "outputId": "0f6b87c6-9fb8-45c5-cf4f-03063468ec1e"
      },
      "outputs": [
        {
          "output_type": "stream",
          "name": "stdout",
          "text": [
            "Training accuracy using nearest neighbour algorithm: 100.0 %\n",
            "Training accuracy using random classifier:  16.4375808538163 %\n"
          ]
        }
      ],
      "source": [
        "trainpred = NN(traindata, trainlabel, traindata)\n",
        "trainAccuracy = Accuracy(trainlabel, trainpred)\n",
        "print(\"Training accuracy using nearest neighbour algorithm:\", trainAccuracy*100, \"%\")\n",
        "\n",
        "trainpred = RandomClassifier(traindata, trainlabel, traindata)\n",
        "trainAccuracy = Accuracy(trainlabel, trainpred)\n",
        "print(\"Training accuracy using random classifier: \", trainAccuracy*100, \"%\")"
      ]
    },
    {
      "cell_type": "markdown",
      "metadata": {
        "id": "7h08-9gJDtSy"
      },
      "source": [
        "For nearest neighbour, the train accuracy is always 1. The accuracy of the random classifier is close to 1/(number of classes) which is 0.1666 in our case. This is because the random classifier randomly assigns a label to each sample and the probability of assigning the correct label is 1/(number of classes). Let us predict the labels for our validation set and get the accuracy. This accuracy is a good estimate of the accuracy of our model on unseen data."
      ]
    },
    {
      "cell_type": "code",
      "execution_count": null,
      "metadata": {
        "colab": {
          "base_uri": "https://localhost:8080/"
        },
        "id": "4h7bXoW_2H3v",
        "outputId": "65a86c52-1726-48b7-f657-500ec6aac2a3"
      },
      "outputs": [
        {
          "output_type": "stream",
          "name": "stdout",
          "text": [
            "Validation accuracy using nearest neighbour algorithm: 34.10852713178294 %\n",
            "Validation accuracy using random classifier: 16.884689922480618 %\n"
          ]
        }
      ],
      "source": [
        "valpred = NN(traindata, trainlabel, valdata)\n",
        "valAccuracy = Accuracy(vallabel, valpred)\n",
        "print(\"Validation accuracy using nearest neighbour algorithm:\", valAccuracy*100, \"%\")\n",
        "\n",
        "\n",
        "valpred = RandomClassifier(traindata, trainlabel, valdata)\n",
        "valAccuracy = Accuracy(vallabel, valpred)\n",
        "print(\"Validation accuracy using random classifier:\", valAccuracy*100, \"%\")"
      ]
    },
    {
      "cell_type": "markdown",
      "metadata": {
        "id": "py9bLguFEjfg"
      },
      "source": [
        "Validation accuracy of nearest neighbour is considerably less than its train accuracy while the validation accuracy of random classifier is the same. However, the validation accuracy of nearest neighbour is twice that of the random classifier. Now let us try another random split and check the validation accuracy. We will see that the validation accuracy changes with the split. This is because the validation set is small and the accuracy is highly dependent on the samples in the validation set. We can get a better estimate of the accuracy by using cross-validation."
      ]
    },
    {
      "cell_type": "code",
      "execution_count": null,
      "metadata": {
        "colab": {
          "base_uri": "https://localhost:8080/"
        },
        "id": "ujm3cyYzEntE",
        "outputId": "ae5dd465-8374-4f6d-9f53-3df32b908111"
      },
      "outputs": [
        {
          "output_type": "stream",
          "name": "stdout",
          "text": [
            "Validation accuracy using nearest neighbour algorithm: 34.048257372654156 %\n"
          ]
        }
      ],
      "source": [
        "traindata, trainlabel, valdata, vallabel = split(\n",
        "    alltraindata, alltrainlabel, 75 / 100)\n",
        "valpred = NN(traindata, trainlabel, valdata)\n",
        "valAccuracy = Accuracy(vallabel, valpred)\n",
        "print(\"Validation accuracy using nearest neighbour algorithm:\", valAccuracy*100, \"%\")"
      ]
    },
    {
      "cell_type": "markdown",
      "metadata": {
        "id": "oSOx7U83EKie"
      },
      "source": [
        "You can run the above cell multiple times to try with different random splits.\n",
        "We notice that the accuracy is different for each run, but close together.\n",
        "\n",
        "Now let us compare it with the accuracy we get on the test dataset."
      ]
    },
    {
      "cell_type": "code",
      "execution_count": null,
      "metadata": {
        "colab": {
          "base_uri": "https://localhost:8080/"
        },
        "id": "PNEZ5ToYBEDW",
        "outputId": "039798e2-8b03-4f9d-85ff-0ee101e3e0a7"
      },
      "outputs": [
        {
          "output_type": "stream",
          "name": "stdout",
          "text": [
            "Test accuracy: 34.91795366795367 %\n"
          ]
        }
      ],
      "source": [
        "testpred = NN(alltraindata, alltrainlabel, testdata)\n",
        "testAccuracy = Accuracy(testlabel, testpred)\n",
        "\n",
        "print(\"Test accuracy:\", testAccuracy*100, \"%\")"
      ]
    },
    {
      "cell_type": "markdown",
      "metadata": {
        "id": "w3dGD531K3gH"
      },
      "source": [
        "### Try it out for yourself and answer:\n",
        "1. How is the accuracy of the validation set affected if we increase the percentage of validation set? What happens when we reduce it?\n",
        "2. How does the size of the train and validation set affect how well we can predict the accuracy on the test set using the validation set?\n",
        "3. What do you think is a good percentage to reserve for the validation set so that thest two factors are balanced?\n",
        "\n",
        "Answer for both nearest neighbour and random classifier. You can note down the values for your experiments and plot a graph using  <a href=https://matplotlib.org/stable/gallery/lines_bars_and_markers/step_demo.html#sphx-glr-gallery-lines-bars-and-markers-step-demo-py>plt.plot<href>. Check also for extreme values for splits, like 99.9% or 0.1%"
      ]
    },
    {
      "cell_type": "code",
      "source": [
        "import matplotlib.pyplot as plt\n",
        "import numpy as np\n",
        "val_percentages = np.linspace(0.1, 99.9, 20)  # Vary validation percentages\n",
        "nn_val_accuracies = []\n",
        "random_val_accuracies = []\n",
        "\n",
        "for percent in val_percentages:\n",
        "    traindata, trainlabel, valdata, vallabel = split(\n",
        "        alltraindata, alltrainlabel, (100 - percent) / 100\n",
        "    )\n",
        "\n",
        "    # Nearest Neighbour\n",
        "    valpred_nn = NN(traindata, trainlabel, valdata)\n",
        "    valAccuracy_nn = Accuracy(vallabel, valpred_nn)\n",
        "    nn_val_accuracies.append(valAccuracy_nn * 100)\n",
        "\n",
        "    # Random Classifier\n",
        "    valpred_random = RandomClassifier(traindata, trainlabel, valdata)\n",
        "    valAccuracy_random = Accuracy(vallabel, valpred_random)\n",
        "    random_val_accuracies.append(valAccuracy_random * 100)\n",
        "\n",
        "plt.figure(figsize=(10, 6))\n",
        "plt.plot(val_percentages, nn_val_accuracies, label='Nearest Neighbour')\n",
        "plt.plot(val_percentages, random_val_accuracies, label='Random Classifier')\n",
        "plt.xlabel('Percentage of Validation Set')\n",
        "plt.ylabel('Validation Accuracy (%)')\n",
        "plt.title('Validation Accuracy vs. Validation Set Percentage')\n",
        "plt.legend()\n",
        "plt.grid(True)\n",
        "plt.show()"
      ],
      "metadata": {
        "id": "7BHru7_KlsfU",
        "outputId": "a9e20624-125e-44bc-83d3-c241ab9bb4d0",
        "colab": {
          "base_uri": "https://localhost:8080/",
          "height": 564
        }
      },
      "execution_count": null,
      "outputs": [
        {
          "output_type": "display_data",
          "data": {
            "text/plain": [
              "<Figure size 1000x600 with 1 Axes>"
            ],
            "image/png": "[encoded data removed]"
          },
          "metadata": {}
        }
      ]
    },
    {
      "cell_type": "markdown",
      "source": [
        "1. Effect of validation set size on accuracy:\n",
        "Nearest Neighbour: More validation data means less training data, so validation accuracy may drop. Less validation data means more training data, so training accuracy can improve, but estimates may be less stable.\n",
        "\n",
        "Random Classifier: Accuracy is mostly constant regardless of split since it’s not data-dependent.\n",
        "\n",
        "2. Predicting test accuracy:\n",
        "Very small validation set: Fluctuating and unreliable estimates.\n",
        "\n",
        "Very large validation set: Model trained on less data, so validation accuracy may underestimate test performance.\n",
        "\n",
        "Balanced split: More stable and representative estimate.\n",
        "\n",
        "3. Good validation set percentage:\n",
        "Small datasets: 20-30% validation set.\n",
        "\n",
        "Large datasets: 10-20% validation set.\n",
        "\n",
        "Common splits: 60-20-20 or 70-15-15 for train-validation-test.\n",
        "\n",
        "For Nearest Neighbour, validation accuracy stabilizes after a certain split. For Random Classifier, the split matters less."
      ],
      "metadata": {
        "id": "aJKk0h0wnIUU"
      }
    },
    {
      "cell_type": "markdown",
      "metadata": {
        "id": "M9zvdYY6evgI"
      },
      "source": [
        "> Exercise: Try to implement a 3 nearest neighbour classifier and compare the accuracy of the 1 nearest neighbour classifier and the 3 nearest neighbour classifier on the test dataset. You can use the KNeighborsClassifier class from the scikit-learn library to implement the K-Nearest Neighbors model. You can set the number of neighbors using the n_neighbors parameter. You can also use the accuracy_score function from the scikit-learn library to calculate the accuracy of the model."
      ]
    },
    {
      "cell_type": "code",
      "source": [
        "from sklearn.neighbors import KNeighborsClassifier\n",
        "from sklearn.metrics import accuracy_score\n",
        "\n",
        "# Initialize the 1-NN and 3-NN classifiers\n",
        "knn1 = KNeighborsClassifier(n_neighbors=1)\n",
        "knn3 = KNeighborsClassifier(n_neighbors=3)\n",
        "\n",
        "# Train the classifiers on the entire training data (alltraindata, alltrainlabel)\n",
        "knn1.fit(alltraindata, alltrainlabel)\n",
        "knn3.fit(alltraindata, alltrainlabel)\n",
        "\n",
        "# Make predictions on the test dataset\n",
        "test_pred_knn1 = knn1.predict(testdata)\n",
        "test_pred_knn3 = knn3.predict(testdata)\n",
        "\n",
        "# Calculate the accuracy for each classifier\n",
        "accuracy_knn1 = accuracy_score(testlabel, test_pred_knn1)\n",
        "accuracy_knn3 = accuracy_score(testlabel, test_pred_knn3)\n",
        "\n",
        "print(\"Accuracy of 1-Nearest Neighbor classifier on the test set:\", accuracy_knn1 * 100, \"%\")\n",
        "print(\"Accuracy of 3-Nearest Neighbor classifier on the test set:\", accuracy_knn3 * 100, \"%\")"
      ],
      "metadata": {
        "id": "d780tmrTnZ6P",
        "outputId": "a8bf2268-9e51-403f-ebfc-094b2f6e3dde",
        "colab": {
          "base_uri": "https://localhost:8080/"
        }
      },
      "execution_count": null,
      "outputs": [
        {
          "output_type": "stream",
          "name": "stdout",
          "text": [
            "Accuracy of 1-Nearest Neighbor classifier on the test set: 34.91795366795367 %\n",
            "Accuracy of 3-Nearest Neighbor classifier on the test set: 36.05212355212355 %\n"
          ]
        }
      ]
    },
    {
      "cell_type": "markdown",
      "metadata": {
        "id": "PnYvkAZLQY7h"
      },
      "source": [
        "## Multiple Splits\n",
        "\n",
        "One way to get more accurate estimates for the test accuracy is by using <b>cross-validation</b>. Here, we will try a simple version, where we do multiple train/val splits and take the average of validation accuracies as the test accuracy estimation. Here is a function for doing this. Note that this function will take a long time to execute. You can reduce the number of splits to make it faster."
      ]
    },
    {
      "cell_type": "code",
      "execution_count": null,
      "metadata": {
        "id": "E4nGCUQXBTzo"
      },
      "outputs": [],
      "source": [
        "def AverageAccuracy(alldata, alllabel, splitpercent, iterations, classifier=NN):\n",
        "    \"\"\"\n",
        "    This function takes in the data, labels, split percentage, number of iterations and classifier function\n",
        "    and returns the average accuracy of the classifier\n",
        "\n",
        "    alldata: numpy array of shape (n,d) where n is the number of samples and d is the number of features\n",
        "    alllabel: numpy array of shape (n,) where n is the number of samples\n",
        "    splitpercent: float which is the percentage of data to be used for training\n",
        "    iterations: int which is the number of iterations to run the classifier\n",
        "    classifier: function which is the classifier function to be used\n",
        "\n",
        "    returns: the average accuracy of the classifier\n",
        "    \"\"\"\n",
        "    accuracy = 0\n",
        "    for ii in range(iterations):\n",
        "        traindata, trainlabel, valdata, vallabel = split(\n",
        "            alldata, alllabel, splitpercent\n",
        "        )\n",
        "        valpred = classifier(traindata, trainlabel, valdata)\n",
        "        accuracy += Accuracy(vallabel, valpred)\n",
        "    return accuracy / iterations  # average of all accuracies"
      ]
    },
    {
      "cell_type": "code",
      "execution_count": null,
      "metadata": {
        "colab": {
          "base_uri": "https://localhost:8080/"
        },
        "id": "H3qtNar7Bbik",
        "outputId": "844ddc6a-16fb-47f4-9401-98e02154fd62"
      },
      "outputs": [
        {
          "output_type": "stream",
          "name": "stdout",
          "text": [
            "Average validation accuracy: 33.93286114038405 %\n",
            "Test accuracy: 34.91795366795367 %\n"
          ]
        }
      ],
      "source": [
        "avg_acc = AverageAccuracy(alltraindata, alltrainlabel, 75 / 100, 10, classifier=NN)\n",
        "print(\"Average validation accuracy:\", avg_acc*100, \"%\")\n",
        "testpred = NN(alltraindata, alltrainlabel, testdata)\n",
        "\n",
        "print(\"Test accuracy:\", Accuracy(testlabel, testpred)*100, \"%\")"
      ]
    },
    {
      "cell_type": "markdown",
      "metadata": {
        "id": "33GIn4x5VH-d"
      },
      "source": [
        "This is a very simple way of doing cross-validation. There are many well-known algorithms for cross-validation, like k-fold cross-validation, leave-one-out etc. This will be covered in detail in a later module. For more information about cross-validation, check <a href=https://en.wikipedia.org/wiki/Cross-validation_(statistics)>Cross-validatioin (Wikipedia)</a>\n",
        "\n",
        "### Questions\n",
        "1. Does averaging the validation accuracy across multiple splits give more consistent results?\n",
        "2. Does it give more accurate estimate of test accuracy?\n",
        "3. What is the effect of the number of iterations on the estimate? Do we get a better estimate with higher iterations?\n",
        "4. Consider the results you got for the previous questions. Can we deal with a very small train dataset or validation dataset by increasing the iterations?\n"
      ]
    },
    {
      "cell_type": "markdown",
      "source": [
        "1️) Does averaging validation accuracy across multiple splits give more consistent results?\n",
        " * Yes — averaging smooths out fluctuations from any single split, giving a more stable and less variable estimate of model performance.\n",
        "\n",
        "2️) Does it give a more accurate estimate of test accuracy?\n",
        "* Generally, yes — averaging reduces noise from one-off data splits. However, it’s not perfect: if your dataset is biased or unrepresentative, even multiple splits won’t fully correct that.\n",
        "\n",
        "3️) Effect of number of iterations on the estimate:\n",
        "* More iterations usually give a better (less variable) estimate, because:\n",
        "\n",
        "  * More splits sample different combinations of training/validation data.\n",
        "\n",
        "  * This reduces variance and improves reliability.\n",
        "\n",
        "  * But after a certain point, more iterations yield diminishing returns — the estimate stabilizes.\n",
        "\n",
        "4️) Can more iterations compensate for a very small training or validation dataset?\n",
        "* Not entirely.\n",
        "\n",
        "* If the training set is too small, the model may still underfit no matter how many splits you average.\n",
        "\n",
        "* If the validation set is too small, each split’s estimate may be too noisy to converge meaningfully, even after averaging.\n",
        "\n",
        "* More iterations help reduce variance but don’t fully solve the problem of small sample sizes."
      ],
      "metadata": {
        "id": "_ZuVfsRUn4uF"
      }
    },
    {
      "cell_type": "markdown",
      "metadata": {
        "id": "z-SBxy1qevgJ"
      },
      "source": [
        "> Exercise: How does the accuracy of the 3 nearest neighbour classifier change with the number of splits? How is it affected by the split size? Compare the results with the 1 nearest neighbour classifier."
      ]
    },
    {
      "cell_type": "code",
      "source": [
        "import matplotlib.pyplot as plt\n",
        "import numpy as np\n",
        "# Function to calculate average accuracy for a given classifier and number of splits\n",
        "def AverageAccuracyKNN(alldata, alllabel, splitpercent, iterations, n_neighbors):\n",
        "    \"\"\"\n",
        "    Calculates the average accuracy of a KNeighborsClassifier across multiple splits.\n",
        "\n",
        "    alldata: numpy array of shape (n,d)\n",
        "    alllabel: numpy array of shape (n,)\n",
        "    splitpercent: float, percentage of data for training\n",
        "    iterations: int, number of splits/iterations\n",
        "    n_neighbors: int, number of neighbors for KNeighborsClassifier\n",
        "\n",
        "    returns: the average accuracy\n",
        "    \"\"\"\n",
        "    accuracy = 0\n",
        "    for ii in range(iterations):\n",
        "        # Perform split\n",
        "        traindata, trainlabel, valdata, vallabel = split(\n",
        "            alldata, alllabel, splitpercent\n",
        "        )\n",
        "\n",
        "        # Initialize and train KNeighborsClassifier\n",
        "        knn = KNeighborsClassifier(n_neighbors=n_neighbors)\n",
        "        knn.fit(traindata, trainlabel)\n",
        "\n",
        "        # Make predictions on validation data\n",
        "        valpred = knn.predict(valdata)\n",
        "\n",
        "        # Calculate accuracy for this split\n",
        "        accuracy += accuracy_score(vallabel, valpred)\n",
        "\n",
        "    # Return average accuracy\n",
        "    return accuracy / iterations\n",
        "\n",
        "# Define the range of validation percentages to test\n",
        "val_percentages_splits = np.linspace(10, 90, 10) # Vary validation percentages from 10% to 90%\n",
        "num_iterations = 5 # Number of splits for averaging\n",
        "\n",
        "avg_val_accuracies_knn1_splits = []\n",
        "avg_val_accuracies_knn3_splits = []\n",
        "\n",
        "print(f\"Evaluating accuracy with {num_iterations} splits for each validation percentage...\")\n",
        "\n",
        "for percent in val_percentages_splits:\n",
        "    train_percent = (100 - percent) / 100\n",
        "\n",
        "    # Calculate average accuracy for 1-NN\n",
        "    avg_acc_knn1 = AverageAccuracyKNN(alltraindata, alltrainlabel, train_percent, num_iterations, n_neighbors=1)\n",
        "    avg_val_accuracies_knn1_splits.append(avg_acc_knn1 * 100)\n",
        "    print(f\"Val percent: {percent}%, 1-NN Average Accuracy: {avg_acc_knn1*100:.2f}%\")\n",
        "\n",
        "    # Calculate average accuracy for 3-NN\n",
        "    avg_acc_knn3 = AverageAccuracyKNN(alltraindata, alltrainlabel, train_percent, num_iterations, n_neighbors=3)\n",
        "    avg_val_accuracies_knn3_splits.append(avg_acc_knn3 * 100)\n",
        "    print(f\"Val percent: {percent}%, 3-NN Average Accuracy: {avg_acc_knn3*100:.2f}%\")\n",
        "\n",
        "# Plotting the results\n",
        "plt.figure(figsize=(10, 6))\n",
        "plt.plot(val_percentages_splits, avg_val_accuracies_knn1_splits, marker='o', label='1-Nearest Neighbour (Avg over splits)')\n",
        "plt.plot(val_percentages_splits, avg_val_accuracies_knn3_splits, marker='o', label='3-Nearest Neighbour (Avg over splits)')\n",
        "plt.xlabel('Percentage of Validation Set')\n",
        "plt.ylabel('Average Validation Accuracy (%)')\n",
        "plt.title('Average Validation Accuracy vs. Validation Set Percentage (over 5 splits)')\n",
        "plt.legend()\n",
        "plt.grid(True)\n",
        "plt.show()\n",
        "\n",
        "# Discussion on the effect of number of splits (iterations) and split size\n",
        "\n",
        "print(\"\\nDiscussion on the effect of number of splits and split size:\")\n",
        "print(\"- The average validation accuracy is calculated across multiple random splits of the training data into training and validation sets.\")\n",
        "print(\"- Increasing the number of splits (iterations in AverageAccuracyKNN) helps to get a more robust and less variable estimate of the model's performance for a given split percentage.\")\n",
        "print(\"- With more iterations, we are less likely to get an unusually high or low accuracy due to a particularly 'lucky' or 'unlucky' random split.\")\n",
        "print(\"- The split size (percentage of data allocated to the validation set) affects the accuracy:\")\n",
        "print(\"  - Larger validation set percentage: Less data for training, which might lead to a less well-trained model (potentially lower accuracy). However, the accuracy estimate on the validation set is based on more samples, making the estimate itself potentially more reliable.\")\n",
        "print(\"  - Smaller validation set percentage: More data for training, potentially leading to a better-trained model (potentially higher accuracy). However, the accuracy estimate on the validation set is based on fewer samples, making the estimate itself more variable and less reliable.\")\n",
        "print(\"- Comparing 1-NN and 3-NN:\")\n",
        "print(\"  - 1-NN is very sensitive to noise in the training data and can overfit. Its accuracy might fluctuate more with different splits, especially with small training sets.\")\n",
        "print(\"  - 3-NN considers the labels of the 3 nearest neighbors, which can help to smooth out noise and provide a more stable decision boundary. It might be less prone to overfitting than 1-NN.\")\n",
        "print(\"  - By comparing the plotted lines, we can observe how the average accuracy for 1-NN and 3-NN changes as the validation set size changes, and how they compare to each other.\")\n",
        "print(\"  - In this specific dataset and with 5 splits, you can see if 3-NN consistently outperforms 1-NN or vice-versa, and how the trend is affected by the amount of data used for training/validation.\")\n"
      ],
      "metadata": {
        "id": "6JehHmRGohXq",
        "outputId": "febc3e43-8563-4951-ad0c-006c973dbb63",
        "colab": {
          "base_uri": "https://localhost:8080/",
          "height": 1000
        }
      },
      "execution_count": null,
      "outputs": [
        {
          "output_type": "stream",
          "name": "stdout",
          "text": [
            "Evaluating accuracy with 5 splits for each validation percentage...\n",
            "Val percent: 10.0%, 1-NN Average Accuracy: 34.87%\n",
            "Val percent: 10.0%, 3-NN Average Accuracy: 34.76%\n",
            "Val percent: 18.88888888888889%, 1-NN Average Accuracy: 34.30%\n",
            "Val percent: 18.88888888888889%, 3-NN Average Accuracy: 34.36%\n",
            "Val percent: 27.77777777777778%, 1-NN Average Accuracy: 33.23%\n",
            "Val percent: 27.77777777777778%, 3-NN Average Accuracy: 34.95%\n",
            "Val percent: 36.66666666666667%, 1-NN Average Accuracy: 33.04%\n",
            "Val percent: 36.66666666666667%, 3-NN Average Accuracy: 34.02%\n",
            "Val percent: 45.55555555555556%, 1-NN Average Accuracy: 33.09%\n",
            "Val percent: 45.55555555555556%, 3-NN Average Accuracy: 33.82%\n",
            "Val percent: 54.44444444444444%, 1-NN Average Accuracy: 33.04%\n",
            "Val percent: 54.44444444444444%, 3-NN Average Accuracy: 33.30%\n",
            "Val percent: 63.333333333333336%, 1-NN Average Accuracy: 32.31%\n",
            "Val percent: 63.333333333333336%, 3-NN Average Accuracy: 32.81%\n",
            "Val percent: 72.22222222222223%, 1-NN Average Accuracy: 31.42%\n",
            "Val percent: 72.22222222222223%, 3-NN Average Accuracy: 32.37%\n",
            "Val percent: 81.11111111111111%, 1-NN Average Accuracy: 30.87%\n",
            "Val percent: 81.11111111111111%, 3-NN Average Accuracy: 31.39%\n",
            "Val percent: 90.0%, 1-NN Average Accuracy: 29.54%\n",
            "Val percent: 90.0%, 3-NN Average Accuracy: 30.53%\n"
          ]
        },
        {
          "output_type": "display_data",
          "data": {
            "text/plain": [
              "<Figure size 1000x600 with 1 Axes>"
            ],
            "image/png": "[encoded data removed]"
          },
          "metadata": {}
        },
        {
          "output_type": "stream",
          "name": "stdout",
          "text": [
            "\n",
            "Discussion on the effect of number of splits and split size:\n",
            "- The average validation accuracy is calculated across multiple random splits of the training data into training and validation sets.\n",
            "- Increasing the number of splits (iterations in AverageAccuracyKNN) helps to get a more robust and less variable estimate of the model's performance for a given split percentage.\n",
            "- With more iterations, we are less likely to get an unusually high or low accuracy due to a particularly 'lucky' or 'unlucky' random split.\n",
            "- The split size (percentage of data allocated to the validation set) affects the accuracy:\n",
            "  - Larger validation set percentage: Less data for training, which might lead to a less well-trained model (potentially lower accuracy). However, the accuracy estimate on the validation set is based on more samples, making the estimate itself potentially more reliable.\n",
            "  - Smaller validation set percentage: More data for training, potentially leading to a better-trained model (potentially higher accuracy). However, the accuracy estimate on the validation set is based on fewer samples, making the estimate itself more variable and less reliable.\n",
            "- Comparing 1-NN and 3-NN:\n",
            "  - 1-NN is very sensitive to noise in the training data and can overfit. Its accuracy might fluctuate more with different splits, especially with small training sets.\n",
            "  - 3-NN considers the labels of the 3 nearest neighbors, which can help to smooth out noise and provide a more stable decision boundary. It might be less prone to overfitting than 1-NN.\n",
            "  - By comparing the plotted lines, we can observe how the average accuracy for 1-NN and 3-NN changes as the validation set size changes, and how they compare to each other.\n",
            "  - In this specific dataset and with 5 splits, you can see if 3-NN consistently outperforms 1-NN or vice-versa, and how the trend is affected by the amount of data used for training/validation.\n"
          ]
        }
      ]
    }
  ],
  "metadata": {
    "colab": {
      "provenance": [],
      "include_colab_link": true
    },
    "kernelspec": {
      "display_name": "Python 3",
      "name": "python3"
    },
    "language_info": {
      "codemirror_mode": {
        "name": "ipython",
        "version": 3
      },
      "file_extension": ".py",
      "mimetype": "text/x-python",
      "name": "python",
      "nbconvert_exporter": "python",
      "pygments_lexer": "ipython3",
      "version": "3.10.10"
    }
  },
  "nbformat": 4,
  "nbformat_minor": 0
}